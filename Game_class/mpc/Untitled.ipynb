{
 "cells": [
  {
   "cell_type": "code",
   "execution_count": 3,
   "id": "dd30810c-5f8b-4544-bfae-291da5db448c",
   "metadata": {},
   "outputs": [],
   "source": [
    "import numpy as np\n",
    "import scipy as sp\n",
    "from scipy import sparse"
   ]
  },
  {
   "cell_type": "code",
   "execution_count": 22,
   "id": "040e30a1-2b63-4bc2-9422-d09408b67beb",
   "metadata": {},
   "outputs": [],
   "source": [
    "N = 4\n",
    "nu = 3\n",
    "nx = 12\n",
    "\n",
    "u_prev = np.array([1, 1, 1])\n",
    "\n",
    "Dumin = np.array([2, -2, -11110]) \n",
    "Dumax = np.array([2, 2, 11110]) \n",
    "\n",
    "Aineq_du = sparse.vstack([sparse.hstack([np.zeros((nu, (N + 1) * nx)), sparse.eye(nu), np.zeros((nu, (N - 1) * nu))]),  # for u0 - u-1\n",
    "                              sparse.hstack([np.zeros((N * nu, (N+1) * nx)), -sparse.eye(N * nu) + sparse.eye(N * nu, k=1)])  # for uk - uk-1, k=1...Np\n",
    "                             ])\n",
    "uineq_du = np.kron(np.ones(N+1), Dumax) #np.ones((Nc+1) * nu)*Dumax\n",
    "uineq_du[0:nu] += u_prev[0:nu]\n",
    "\n",
    "lineq_du = np.kron(np.ones(N+1), Dumin) #np.ones((Nc+1) * nu)*Dumin\n",
    "lineq_du[0:nu] += u_prev[0:nu] # works for nonscalar u?"
   ]
  },
  {
   "cell_type": "code",
   "execution_count": 15,
   "id": "3514f9f2-12e8-42fb-a070-dc796440094e",
   "metadata": {},
   "outputs": [
    {
     "data": {
      "text/plain": [
       "array([ 2.000e+00, -2.000e+00, -1.111e+04,  2.000e+00, -2.000e+00,\n",
       "       -1.111e+04,  2.000e+00, -2.000e+00, -1.111e+04,  2.000e+00,\n",
       "       -2.000e+00, -1.111e+04,  2.000e+00, -2.000e+00, -1.111e+04])"
      ]
     },
     "execution_count": 20,
     "metadata": {},
     "output_type": "execute_result"
    }
   ],
   "source": [
    "lineq_du"
   ]
  },
  {
   "cell_type": "code",
   "execution_count": 23,
   "id": "6384bf7e-a9d1-4f4c-b723-624eb866a562",
   "metadata": {},
   "outputs": [
    {
     "data": {
      "text/plain": [
       "array([ 3.0000e+00, -1.0000e+00, -1.1109e+04,  2.0000e+00, -2.0000e+00,\n",
       "       -1.1110e+04,  2.0000e+00, -2.0000e+00, -1.1110e+04,  2.0000e+00,\n",
       "       -2.0000e+00, -1.1110e+04,  2.0000e+00, -2.0000e+00, -1.1110e+04])"
      ]
     },
     "execution_count": 23,
     "metadata": {},
     "output_type": "execute_result"
    }
   ],
   "source": [
    "lineq_du"
   ]
  },
  {
   "cell_type": "code",
   "execution_count": null,
   "id": "71e22bc8-5e6d-4b8d-a79e-f871f0d1a385",
   "metadata": {},
   "outputs": [],
   "source": []
  }
 ],
 "metadata": {
  "kernelspec": {
   "display_name": "Python 3",
   "language": "python",
   "name": "python3"
  },
  "language_info": {
   "codemirror_mode": {
    "name": "ipython",
    "version": 3
   },
   "file_extension": ".py",
   "mimetype": "text/x-python",
   "name": "python",
   "nbconvert_exporter": "python",
   "pygments_lexer": "ipython3",
   "version": "3.7.0"
  }
 },
 "nbformat": 4,
 "nbformat_minor": 5
}
